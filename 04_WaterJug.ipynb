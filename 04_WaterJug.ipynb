{
 "cells": [
  {
   "cell_type": "code",
   "execution_count": 10,
   "id": "7a6b7f73",
   "metadata": {},
   "outputs": [
    {
     "name": "stdout",
     "output_type": "stream",
     "text": [
      "True\n"
     ]
    }
   ],
   "source": [
    "from collections import deque\n",
    "\n",
    "def water_jug_problem(capacity_a, capacity_b, target):\n",
    "    visited = set()\n",
    "    queue = deque([(0, 0)])\n",
    "    visited.add((0, 0))\n",
    "\n",
    "    while queue:\n",
    "        a, b = queue.popleft()\n",
    "\n",
    "        if a == target or b == target:\n",
    "            return True\n",
    "\n",
    "        if (capacity_a, b) not in visited:\n",
    "            visited.add((capacity_a, b))\n",
    "            queue.append((capacity_a, b))\n",
    "\n",
    "        if (a, capacity_b) not in visited:\n",
    "            visited.add((a, capacity_b))\n",
    "            queue.append((a, capacity_b))\n",
    "\n",
    "        if (0, b) not in visited:\n",
    "            visited.add((0, b))\n",
    "            queue.append((0, b))\n",
    "\n",
    "        if (a, 0) not in visited:\n",
    "            visited.add((a, 0))\n",
    "            queue.append((a, 0))\n",
    "\n",
    "        pour_to_b = min(a, capacity_b - b)\n",
    "        if (a - pour_to_b, b + pour_to_b) not in visited:\n",
    "            visited.add((a - pour_to_b, b + pour_to_b))\n",
    "            queue.append((a - pour_to_b, b + pour_to_b))\n",
    "\n",
    "        pour_to_a = min(b, capacity_a - a)\n",
    "        if (a + pour_to_a, b - pour_to_a) not in visited:\n",
    "            visited.add((a + pour_to_a, b - pour_to_a))\n",
    "            queue.append((a + pour_to_a, b - pour_to_a))\n",
    "\n",
    "    return False\n",
    "\n",
    "capacity_a = 10\n",
    "capacity_b = 3\n",
    "target = 8\n",
    "\n",
    "result = water_jug_problem(capacity_a, capacity_b, target)\n",
    "print(result)"
   ]
  },
  {
   "cell_type": "code",
   "execution_count": null,
   "id": "e9274ad7",
   "metadata": {},
   "outputs": [],
   "source": []
  },
  {
   "cell_type": "code",
   "execution_count": null,
   "id": "87744195",
   "metadata": {},
   "outputs": [],
   "source": []
  }
 ],
 "metadata": {
  "kernelspec": {
   "display_name": "Python 3 (ipykernel)",
   "language": "python",
   "name": "python3"
  },
  "language_info": {
   "codemirror_mode": {
    "name": "ipython",
    "version": 3
   },
   "file_extension": ".py",
   "mimetype": "text/x-python",
   "name": "python",
   "nbconvert_exporter": "python",
   "pygments_lexer": "ipython3",
   "version": "3.9.12"
  }
 },
 "nbformat": 4,
 "nbformat_minor": 5
}
